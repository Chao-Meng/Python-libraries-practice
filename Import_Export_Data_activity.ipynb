{
  "nbformat": 4,
  "nbformat_minor": 0,
  "metadata": {
    "colab": {
      "provenance": [],
      "authorship_tag": "ABX9TyO9rUYaxLHGrUUC1ho7glPq",
      "include_colab_link": true
    },
    "kernelspec": {
      "name": "python3",
      "display_name": "Python 3"
    },
    "language_info": {
      "name": "python"
    }
  },
  "cells": [
    {
      "cell_type": "markdown",
      "metadata": {
        "id": "view-in-github",
        "colab_type": "text"
      },
      "source": [
        "<a href=\"https://colab.research.google.com/github/Chao-Meng/Python-libraries-practice/blob/main/Import_Export_Data_activity.ipynb\" target=\"_parent\"><img src=\"https://colab.research.google.com/assets/colab-badge.svg\" alt=\"Open In Colab\"/></a>"
      ]
    },
    {
      "cell_type": "code",
      "execution_count": 7,
      "metadata": {
        "colab": {
          "base_uri": "https://localhost:8080/"
        },
        "id": "IygUUtIFheYd",
        "outputId": "30cbe7c0-4506-483a-b439-84f8aaba9b8e"
      },
      "outputs": [
        {
          "output_type": "stream",
          "name": "stdout",
          "text": [
            "     LatD   \"LatM\"   \"LatS\"  \"NS\"   \"LonD\"   \"LonM\"   \"LonS\"  \"EW\"  \\\n",
            "0      41        5       59   \"N\"       80       39        0   \"W\"   \n",
            "1      42       52       48   \"N\"       97       23       23   \"W\"   \n",
            "2      46       35       59   \"N\"      120       30       36   \"W\"   \n",
            "3      42       16       12   \"N\"       71       48        0   \"W\"   \n",
            "4      43       37       48   \"N\"       89       46       11   \"W\"   \n",
            "..    ...      ...      ...   ...      ...      ...      ...   ...   \n",
            "123    39       31       12   \"N\"      119       48       35   \"W\"   \n",
            "124    50       25       11   \"N\"      104       39        0   \"W\"   \n",
            "125    40       10       48   \"N\"      122       14       23   \"W\"   \n",
            "126    40       19       48   \"N\"       75       55       48   \"W\"   \n",
            "127    41        9       35   \"N\"       81       14       23   \"W\"   \n",
            "\n",
            "                 \"City\"  \"State\"  \n",
            "0          \"Youngstown\"       OH  \n",
            "1             \"Yankton\"       SD  \n",
            "2              \"Yakima\"       WA  \n",
            "3           \"Worcester\"       MA  \n",
            "4     \"Wisconsin Dells\"       WI  \n",
            "..                  ...      ...  \n",
            "123              \"Reno\"       NV  \n",
            "124            \"Regina\"       SA  \n",
            "125         \"Red Bluff\"       CA  \n",
            "126           \"Reading\"       PA  \n",
            "127           \"Ravenna\"      OH   \n",
            "\n",
            "[128 rows x 10 columns]\n"
          ]
        }
      ],
      "source": [
        "# 1) Download cities.csv in C7W1 Activity folder\n",
        "# 2) Import the CSV in a dataframe\n",
        "import pandas as pd\n",
        "\n",
        "df = pd.read_csv('/content/cities.csv')\n",
        "print(df)"
      ]
    },
    {
      "cell_type": "code",
      "source": [],
      "metadata": {
        "id": "m2fYVjh2ohgj"
      },
      "execution_count": null,
      "outputs": []
    },
    {
      "cell_type": "code",
      "source": [
        "# 3) Add a column to the dataframe\n",
        "#df['EW_Hemisphere'] = [41,5,59, \"N\",80,39,0,\"W\",\"Youngstown\",'OH ' ]\n",
        "#df['Hemisphere'] = df['\"EW\"'].apply(lambda x: 'Eastern' if x.strip('\"') == 'E' else 'Western')\n",
        "\n",
        "#print(df.columns.tolist())\n",
        "# Rename columns to remove quotes and ensure clean column names\n",
        "#df.columns = [col.replace('\"', '').strip() for col in df.columns]\n",
        "\n",
        "df['newColumn2'] = df['EW'].apply(lambda x: 'Eastern' if x == 'E' else 'Western')\n",
        "print(df)\n",
        "\n",
        "import numpy as np"
      ],
      "metadata": {
        "colab": {
          "base_uri": "https://localhost:8080/"
        },
        "id": "29N4K2TAh_4x",
        "outputId": "98ac9ad7-d210-4fc8-c9d2-a626cdcabee9"
      },
      "execution_count": 20,
      "outputs": [
        {
          "output_type": "stream",
          "name": "stdout",
          "text": [
            "     LatD  LatM  LatS    NS  LonD  LonM  LonS    EW                City State  \\\n",
            "0      41     5    59   \"N\"    80    39     0   \"W\"        \"Youngstown\"    OH   \n",
            "1      42    52    48   \"N\"    97    23    23   \"W\"           \"Yankton\"    SD   \n",
            "2      46    35    59   \"N\"   120    30    36   \"W\"            \"Yakima\"    WA   \n",
            "3      42    16    12   \"N\"    71    48     0   \"W\"         \"Worcester\"    MA   \n",
            "4      43    37    48   \"N\"    89    46    11   \"W\"   \"Wisconsin Dells\"    WI   \n",
            "..    ...   ...   ...   ...   ...   ...   ...   ...                 ...   ...   \n",
            "123    39    31    12   \"N\"   119    48    35   \"W\"              \"Reno\"    NV   \n",
            "124    50    25    11   \"N\"   104    39     0   \"W\"            \"Regina\"    SA   \n",
            "125    40    10    48   \"N\"   122    14    23   \"W\"         \"Red Bluff\"    CA   \n",
            "126    40    19    48   \"N\"    75    55    48   \"W\"           \"Reading\"    PA   \n",
            "127    41     9    35   \"N\"    81    14    23   \"W\"           \"Ravenna\"   OH    \n",
            "\n",
            "    Hemisphere newColumn newColumn2  \n",
            "0      Western   Western    Western  \n",
            "1      Western   Western    Western  \n",
            "2      Western   Western    Western  \n",
            "3      Western   Western    Western  \n",
            "4      Western   Western    Western  \n",
            "..         ...       ...        ...  \n",
            "123    Western   Western    Western  \n",
            "124    Western   Western    Western  \n",
            "125    Western   Western    Western  \n",
            "126    Western   Western    Western  \n",
            "127    Western   Western    Western  \n",
            "\n",
            "[128 rows x 13 columns]\n"
          ]
        }
      ]
    },
    {
      "cell_type": "code",
      "source": [
        "# 4) Perform describe and info on dataframe\n",
        "\n",
        "print(\"Description of the DataFrame:\")\n",
        "print(df.describe())\n",
        "\n",
        "# Display information about the DataFrame including the data types and non-null values\n",
        "print(\"\\nInformation about the DataFrame:\")\n",
        "df.info()\n"
      ],
      "metadata": {
        "colab": {
          "base_uri": "https://localhost:8080/"
        },
        "id": "W698L1ODiAeQ",
        "outputId": "137183a6-ab61-4dea-bfa1-c198110fb0b1"
      },
      "execution_count": 16,
      "outputs": [
        {
          "output_type": "stream",
          "name": "stdout",
          "text": [
            "Description of the DataFrame:\n",
            "             LatD        LatM        LatS        LonD        LonM        LonS\n",
            "count  128.000000  128.000000  128.000000  128.000000  128.000000  128.000000\n",
            "mean    38.820312   30.765625   27.492188   93.250000   27.742188   26.960938\n",
            "std      5.200596   16.426158   18.977814   15.466499   16.927937   18.727807\n",
            "min     26.000000    1.000000    0.000000   71.000000    0.000000    0.000000\n",
            "25%     35.000000   16.000000   11.000000   80.000000   14.000000   11.000000\n",
            "50%     39.000000   31.000000   24.000000   89.500000   26.500000   23.500000\n",
            "75%     42.250000   45.000000   47.000000  103.250000   40.250000   47.000000\n",
            "max     50.000000   59.000000   59.000000  123.000000   58.000000   59.000000\n",
            "\n",
            "Information about the DataFrame:\n",
            "<class 'pandas.core.frame.DataFrame'>\n",
            "RangeIndex: 128 entries, 0 to 127\n",
            "Data columns (total 11 columns):\n",
            " #   Column      Non-Null Count  Dtype \n",
            "---  ------      --------------  ----- \n",
            " 0   LatD        128 non-null    int64 \n",
            " 1   LatM        128 non-null    int64 \n",
            " 2   LatS        128 non-null    int64 \n",
            " 3   NS          128 non-null    object\n",
            " 4   LonD        128 non-null    int64 \n",
            " 5   LonM        128 non-null    int64 \n",
            " 6   LonS        128 non-null    int64 \n",
            " 7   EW          128 non-null    object\n",
            " 8   City        128 non-null    object\n",
            " 9   State       128 non-null    object\n",
            " 10  Hemisphere  128 non-null    object\n",
            "dtypes: int64(6), object(5)\n",
            "memory usage: 11.1+ KB\n"
          ]
        }
      ]
    },
    {
      "cell_type": "code",
      "source": [
        "# 5) Export and save this data as cities1.csv\n",
        "df.to_csv('cities1.csv', index=False)\n"
      ],
      "metadata": {
        "id": "LPZNziRPiB5r"
      },
      "execution_count": 21,
      "outputs": []
    },
    {
      "cell_type": "code",
      "source": [
        "!pip install pandas openpyxl\n",
        "\n"
      ],
      "metadata": {
        "colab": {
          "base_uri": "https://localhost:8080/"
        },
        "id": "r0EaN78RmjQY",
        "outputId": "5e4ff00e-017e-460f-a0ba-bcd6e39861cd"
      },
      "execution_count": 25,
      "outputs": [
        {
          "output_type": "stream",
          "name": "stdout",
          "text": [
            "Requirement already satisfied: pandas in /usr/local/lib/python3.10/dist-packages (1.5.3)\n",
            "Requirement already satisfied: openpyxl in /usr/local/lib/python3.10/dist-packages (3.1.2)\n",
            "Requirement already satisfied: python-dateutil>=2.8.1 in /usr/local/lib/python3.10/dist-packages (from pandas) (2.8.2)\n",
            "Requirement already satisfied: pytz>=2020.1 in /usr/local/lib/python3.10/dist-packages (from pandas) (2023.4)\n",
            "Requirement already satisfied: numpy>=1.21.0 in /usr/local/lib/python3.10/dist-packages (from pandas) (1.25.2)\n",
            "Requirement already satisfied: et-xmlfile in /usr/local/lib/python3.10/dist-packages (from openpyxl) (1.1.0)\n",
            "Requirement already satisfied: six>=1.5 in /usr/local/lib/python3.10/dist-packages (from python-dateutil>=2.8.1->pandas) (1.16.0)\n"
          ]
        }
      ]
    },
    {
      "cell_type": "code",
      "source": [
        "# Import xlsx in a dataframe\n",
        "import pandas as pd\n",
        "\n",
        "df = pd.read_excel('/content/CarSalesByModelStart.xlsx')\n",
        "print(df)\n",
        "\n",
        "\n"
      ],
      "metadata": {
        "colab": {
          "base_uri": "https://localhost:8080/"
        },
        "id": "l1Snc2FhpCRq",
        "outputId": "2a7711c9-00cb-40bb-9dfb-7e5683aa7d4f"
      },
      "execution_count": 27,
      "outputs": [
        {
          "output_type": "stream",
          "name": "stdout",
          "text": [
            "      Year     Month                Date      Model  Dealer ID  Quantity Sold  \\\n",
            "0     2018   January 2018-01-01 23:00:00   Beaufort       1222             10   \n",
            "1     2018   January 2018-01-01 23:00:00     Salish       1222             13   \n",
            "2     2018   January 2018-01-01 23:00:00   Labrador       1222             16   \n",
            "3     2018   January 2018-01-01 23:00:00  Champlain       1222              3   \n",
            "4     2018   January 2018-01-01 23:00:00     Hudson       1222             22   \n",
            "...    ...       ...                 ...        ...        ...            ...   \n",
            "1195  2019  December 2019-12-01 23:00:00   Beaufort       1288             12   \n",
            "1196  2019  December 2019-12-01 23:00:00     Salish       1288             14   \n",
            "1197  2019  December 2019-12-01 23:00:00   Labrador       1288             18   \n",
            "1198  2019  December 2019-12-01 23:00:00  Champlain       1288              4   \n",
            "1199  2019  December 2019-12-01 23:00:00     Hudson       1288             25   \n",
            "\n",
            "       Profit  \n",
            "0     15000.0  \n",
            "1     39650.0  \n",
            "2     12800.0  \n",
            "3      6900.0  \n",
            "4     11000.0  \n",
            "...       ...  \n",
            "1195  18000.0  \n",
            "1196  42700.0  \n",
            "1197  14400.0  \n",
            "1198   9200.0  \n",
            "1199  12500.0  \n",
            "\n",
            "[1200 rows x 7 columns]\n"
          ]
        }
      ]
    },
    {
      "cell_type": "code",
      "source": [
        "\n",
        "# 3) Add a column to the dataframe\n",
        "df['Total Profit'] = df['Quantity Sold'] * df['Profit']\n",
        "print(df)\n",
        "\n"
      ],
      "metadata": {
        "colab": {
          "base_uri": "https://localhost:8080/"
        },
        "id": "-OrB_JjGptFu",
        "outputId": "4c1d7a6d-ed47-4e65-e4e3-0c81d0c9d387"
      },
      "execution_count": 30,
      "outputs": [
        {
          "output_type": "stream",
          "name": "stdout",
          "text": [
            "      Year     Month                Date      Model  Dealer ID  Quantity Sold  \\\n",
            "0     2018   January 2018-01-01 23:00:00   Beaufort       1222             10   \n",
            "1     2018   January 2018-01-01 23:00:00     Salish       1222             13   \n",
            "2     2018   January 2018-01-01 23:00:00   Labrador       1222             16   \n",
            "3     2018   January 2018-01-01 23:00:00  Champlain       1222              3   \n",
            "4     2018   January 2018-01-01 23:00:00     Hudson       1222             22   \n",
            "...    ...       ...                 ...        ...        ...            ...   \n",
            "1195  2019  December 2019-12-01 23:00:00   Beaufort       1288             12   \n",
            "1196  2019  December 2019-12-01 23:00:00     Salish       1288             14   \n",
            "1197  2019  December 2019-12-01 23:00:00   Labrador       1288             18   \n",
            "1198  2019  December 2019-12-01 23:00:00  Champlain       1288              4   \n",
            "1199  2019  December 2019-12-01 23:00:00     Hudson       1288             25   \n",
            "\n",
            "       Profit  Total Profit  \n",
            "0     15000.0      150000.0  \n",
            "1     39650.0      515450.0  \n",
            "2     12800.0      204800.0  \n",
            "3      6900.0       20700.0  \n",
            "4     11000.0      242000.0  \n",
            "...       ...           ...  \n",
            "1195  18000.0      216000.0  \n",
            "1196  42700.0      597800.0  \n",
            "1197  14400.0      259200.0  \n",
            "1198   9200.0       36800.0  \n",
            "1199  12500.0      312500.0  \n",
            "\n",
            "[1200 rows x 8 columns]\n"
          ]
        }
      ]
    },
    {
      "cell_type": "code",
      "source": [
        "# 4) Perform describe and info on dataframe\n",
        "print(\"Description of the DataFrame:\")\n",
        "print(df.describe())\n",
        "print(\"\\nInformation about the DataFrame:\")\n",
        "df.info()"
      ],
      "metadata": {
        "colab": {
          "base_uri": "https://localhost:8080/"
        },
        "id": "66HCsOJMqWiU",
        "outputId": "361080c5-c9af-454b-8495-4b7ce1377dd4"
      },
      "execution_count": 33,
      "outputs": [
        {
          "output_type": "stream",
          "name": "stdout",
          "text": [
            "Description of the DataFrame:\n",
            "              Year    Dealer ID  Quantity Sold        Profit  Total Profit\n",
            "count  1200.000000  1200.000000     1200.00000   1200.000000  1.200000e+03\n",
            "mean   2018.500000  1281.800000       17.99750  24974.055208  5.024268e+05\n",
            "std       0.500208    72.453672        9.97432  17370.750612  4.704418e+05\n",
            "min    2018.000000  1212.000000        2.00000   4600.000000  9.200000e+03\n",
            "25%    2018.000000  1217.000000       11.00000  13500.000000  1.800000e+05\n",
            "50%    2018.500000  1256.000000       18.00000  18500.000000  3.872000e+05\n",
            "75%    2019.000000  1336.000000       24.00000  28922.812500  6.728000e+05\n",
            "max    2019.000000  1402.000000       48.00000  83875.000000  3.406760e+06\n",
            "\n",
            "Information about the DataFrame:\n",
            "<class 'pandas.core.frame.DataFrame'>\n",
            "RangeIndex: 1200 entries, 0 to 1199\n",
            "Data columns (total 8 columns):\n",
            " #   Column         Non-Null Count  Dtype         \n",
            "---  ------         --------------  -----         \n",
            " 0   Year           1200 non-null   int64         \n",
            " 1   Month          1200 non-null   object        \n",
            " 2   Date           1200 non-null   datetime64[ns]\n",
            " 3   Model          1200 non-null   object        \n",
            " 4   Dealer ID      1200 non-null   int64         \n",
            " 5   Quantity Sold  1200 non-null   int64         \n",
            " 6   Profit         1200 non-null   float64       \n",
            " 7   Total Profit   1200 non-null   float64       \n",
            "dtypes: datetime64[ns](1), float64(2), int64(3), object(2)\n",
            "memory usage: 75.1+ KB\n"
          ]
        }
      ]
    },
    {
      "cell_type": "code",
      "source": [
        "# 5) Export and save this data as CarSalesByModelStart1.xlsx\n",
        "df.to_excel('CarSalesByModelStart1.xlsx', index=False, engine='openpyxl')"
      ],
      "metadata": {
        "id": "NtDkhcxfqXxt"
      },
      "execution_count": 34,
      "outputs": []
    },
    {
      "cell_type": "code",
      "source": [
        "import pandas as pd\n",
        "\n",
        "# 2) Import the Json into a dataframe\n",
        "# 用正确的文件路径替换'Jay.json'，如果文件就在当前工作目录，直接使用文件名即可\n",
        "df = pd.read_json('Jay.json')\n",
        "\n",
        "# 查看DataFrame的前几行，确认数据已正确加载\n",
        "print(df.head())\n",
        "\n",
        "\n"
      ],
      "metadata": {
        "colab": {
          "base_uri": "https://localhost:8080/"
        },
        "id": "js1ivdD7q1sS",
        "outputId": "33e3cafc-4174-43e4-a8ee-03a1449186b4"
      },
      "execution_count": 35,
      "outputs": [
        {
          "output_type": "stream",
          "name": "stdout",
          "text": [
            "   Duration  Pulse  Maxpulse  Calories\n",
            "0        60    110       130     409.1\n",
            "1        60    117       145     479.0\n",
            "2        60    103       135     340.0\n",
            "3        45    109       175     282.4\n",
            "4        45    117       148     406.0\n"
          ]
        }
      ]
    },
    {
      "cell_type": "code",
      "source": [
        "#add a column\n",
        "df['Effort'] = df['Calories'] / df['Duration']\n",
        "print(df)"
      ],
      "metadata": {
        "colab": {
          "base_uri": "https://localhost:8080/"
        },
        "id": "mBRgFaoPrT2M",
        "outputId": "ff85e128-b6bb-42df-c895-6768c8f1de3d"
      },
      "execution_count": 38,
      "outputs": [
        {
          "output_type": "stream",
          "name": "stdout",
          "text": [
            "     Duration  Pulse  Maxpulse  Calories    Effort\n",
            "0          60    110       130     409.1  6.818333\n",
            "1          60    117       145     479.0  7.983333\n",
            "2          60    103       135     340.0  5.666667\n",
            "3          45    109       175     282.4  6.275556\n",
            "4          45    117       148     406.0  9.022222\n",
            "..        ...    ...       ...       ...       ...\n",
            "164        60    105       140     290.8  4.846667\n",
            "165        60    110       145     300.4  5.006667\n",
            "166        60    115       145     310.2  5.170000\n",
            "167        75    120       150     320.4  4.272000\n",
            "168        75    125       150     330.4  4.405333\n",
            "\n",
            "[169 rows x 5 columns]\n"
          ]
        }
      ]
    },
    {
      "cell_type": "code",
      "source": [
        "# 4) Perform describe and info on dataframe\n",
        "print(\"Description of the DataFrame:\")\n",
        "print(df.describe())\n",
        "\n",
        "print(\"\\nInformation about the DataFrame:\")\n",
        "df.info()"
      ],
      "metadata": {
        "colab": {
          "base_uri": "https://localhost:8080/"
        },
        "id": "4gW1CgjGrZqF",
        "outputId": "a24df162-ea08-442f-970f-23f126ee5a67"
      },
      "execution_count": 39,
      "outputs": [
        {
          "output_type": "stream",
          "name": "stdout",
          "text": [
            "Description of the DataFrame:\n",
            "         Duration       Pulse    Maxpulse     Calories      Effort\n",
            "count  169.000000  169.000000  169.000000   164.000000  164.000000\n",
            "mean    63.846154  107.461538  134.047337   375.800000    5.976795\n",
            "std     42.299949   14.510259   16.450434   266.377134    1.602332\n",
            "min     15.000000   80.000000  100.000000    50.300000    2.237778\n",
            "25%     45.000000  100.000000  124.000000   250.925000    5.001417\n",
            "50%     60.000000  105.000000  131.000000   318.600000    5.842167\n",
            "75%     60.000000  111.000000  141.000000   387.600000    6.636667\n",
            "max    300.000000  159.000000  184.000000  1860.400000   11.470000\n",
            "\n",
            "Information about the DataFrame:\n",
            "<class 'pandas.core.frame.DataFrame'>\n",
            "Int64Index: 169 entries, 0 to 168\n",
            "Data columns (total 5 columns):\n",
            " #   Column    Non-Null Count  Dtype  \n",
            "---  ------    --------------  -----  \n",
            " 0   Duration  169 non-null    int64  \n",
            " 1   Pulse     169 non-null    int64  \n",
            " 2   Maxpulse  169 non-null    int64  \n",
            " 3   Calories  164 non-null    float64\n",
            " 4   Effort    164 non-null    float64\n",
            "dtypes: float64(2), int64(3)\n",
            "memory usage: 7.9 KB\n"
          ]
        }
      ]
    },
    {
      "cell_type": "code",
      "source": [
        "# 5) Export and save this data as Jay1.json\n",
        "df.to_json(\"Jay1.json\", orient='records', lines=True)\n",
        "\n",
        "print(\"\\nData has been saved to Jay1.json.\")"
      ],
      "metadata": {
        "colab": {
          "base_uri": "https://localhost:8080/"
        },
        "id": "R7O6d0wXrhFV",
        "outputId": "b1995c4e-d7e7-4284-e206-b936a7e3d010"
      },
      "execution_count": 40,
      "outputs": [
        {
          "output_type": "stream",
          "name": "stdout",
          "text": [
            "\n",
            "Data has been saved to Jay1.json.\n"
          ]
        }
      ]
    }
  ]
}